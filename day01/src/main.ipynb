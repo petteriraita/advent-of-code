{
 "cells": [
  {
   "cell_type": "code",
   "execution_count": 84,
   "metadata": {},
   "outputs": [],
   "source": [
    "import numpy as np\n",
    "\n",
    "\n",
    "# generate array from text\n",
    "data: np.ndarray = np.genfromtxt('../puzzle/test.txt', delimiter='  ', skip_header=0, dtype=int, encoding=None)\n",
    "\n",
    "# returns a 2D array"
   ]
  },
  {
   "cell_type": "code",
   "execution_count": 85,
   "metadata": {},
   "outputs": [
    {
     "name": "stdout",
     "output_type": "stream",
     "text": [
      "[[3 4]\n",
      " [4 3]\n",
      " [2 5]\n",
      " [1 3]\n",
      " [3 9]\n",
      " [3 3]]\n"
     ]
    }
   ],
   "source": [
    "print(data)"
   ]
  },
  {
   "cell_type": "code",
   "execution_count": 86,
   "metadata": {},
   "outputs": [],
   "source": [
    "def parse(puzzle: np.ndarray) -> tuple:\n",
    "    # so if a 1D array with 2 elements, then print this\n",
    "    if puzzle.ndim == 1 and puzzle.size == 2:\n",
    "        line1, line2 = puzzle[0], puzzle[1]\n",
    "    # more than 1 line\n",
    "    else: \n",
    "        line1, line2 = puzzle[:,0], puzzle[:, 1]\n",
    "\n",
    "    return (line1, line2)"
   ]
  },
  {
   "cell_type": "code",
   "execution_count": 87,
   "metadata": {},
   "outputs": [
    {
     "name": "stdout",
     "output_type": "stream",
     "text": [
      "[3 4 2 1 3 3]\n"
     ]
    }
   ],
   "source": [
    "fs, nd = parse(data)\n",
    "print(fs)\n"
   ]
  },
  {
   "cell_type": "code",
   "execution_count": 88,
   "metadata": {},
   "outputs": [],
   "source": [
    "def calculate_distance(puzzle: np.ndarray)-> int:\n",
    "    sum = 0\n",
    "\n",
    "    fs, nd = parse(data)\n",
    "    for num1, num2 in zip(sorted(fs), sorted(nd)):   \n",
    "        # print(num1, num2, \" numbs\")\n",
    "        diff =  abs(num1 - num2)\n",
    "        # print(diff, \" diff\")\n",
    "        sum += diff\n",
    "        \n",
    "    return sum\n"
   ]
  },
  {
   "cell_type": "code",
   "execution_count": 89,
   "metadata": {},
   "outputs": [
    {
     "data": {
      "text/plain": [
       "11"
      ]
     },
     "execution_count": 89,
     "metadata": {},
     "output_type": "execute_result"
    }
   ],
   "source": [
    "calculate_distance(puzzle=data)\n"
   ]
  },
  {
   "cell_type": "code",
   "execution_count": 91,
   "metadata": {},
   "outputs": [],
   "source": [
    "# input data\n",
    "\n",
    "input_data: np.ndarray = np.genfromtxt('../puzzle/input.txt', delimiter='  ', skip_header=0, dtype=int, encoding=None)\n"
   ]
  },
  {
   "cell_type": "code",
   "execution_count": 92,
   "metadata": {},
   "outputs": [
    {
     "data": {
      "text/plain": [
       "1341714"
      ]
     },
     "execution_count": 92,
     "metadata": {},
     "output_type": "execute_result"
    }
   ],
   "source": [
    "calculate_distance(puzzle=input_data)"
   ]
  }
 ],
 "metadata": {
  "kernelspec": {
   "display_name": "data_mining_env",
   "language": "python",
   "name": "python3"
  },
  "language_info": {
   "codemirror_mode": {
    "name": "ipython",
    "version": 3
   },
   "file_extension": ".py",
   "mimetype": "text/x-python",
   "name": "python",
   "nbconvert_exporter": "python",
   "pygments_lexer": "ipython3",
   "version": "3.10.15"
  }
 },
 "nbformat": 4,
 "nbformat_minor": 2
}
